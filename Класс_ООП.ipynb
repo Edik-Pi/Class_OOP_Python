{
 "cells": [
  {
   "cell_type": "code",
   "execution_count": 40,
   "metadata": {},
   "outputs": [
    {
     "name": "stdout",
     "output_type": "stream",
     "text": [
      "Nilabh and Nilabh are two employees of Python Enterprises conpany.\n",
      "Nilabh and 22 are two employees of Production conpany.\n",
      "Nilabh and 28 are two employees of Marketing conpany.\n"
     ]
    }
   ],
   "source": [
    "class Employee:\n",
    "    \n",
    "    #атрибут класс (Оюбщий для всех экземпляров класса)\n",
    "    company = \"Python Enterprises\"\n",
    "    \n",
    "    #атрибут экземпляра\n",
    "    def __init__(self,name,age,dept):\n",
    "        self.name = name\n",
    "        self.age = age\n",
    "        self.department = dept\n",
    "        \n",
    "#Создание экземпляров класса Em  ployee\n",
    "Eduardo = Employee(\"Nilabh\",22,\"Production\")\n",
    "Tchipungo = Employee(\"Nilabh\",28,\"Marketing\")\n",
    "\n",
    "print(\"{} and {} are two employees of {} conpany.\".format(Nilabh.name,\n",
    "            Sandip.name, Employee.company))\n",
    "print(\"{} and {} are two employees of {} conpany.\".format(Nilabh.name,\n",
    "            Nilabh.age, Nilabh.department))\n",
    "print(\"{} and {} are two employees of {} conpany.\".format(Sandip.name,\n",
    "            Sandip.age, Sandip.department))"
   ]
  },
  {
   "cell_type": "code",
   "execution_count": 39,
   "metadata": {},
   "outputs": [
    {
     "name": "stdout",
     "output_type": "stream",
     "text": [
      "My name is Nilabh, my age is 26 and I work in Producction departmentof Python Enterprises.\n"
     ]
    }
   ],
   "source": [
    "# с помощью функцую _str_ и  dir()\n",
    "class Employee:\n",
    "    \n",
    "    company = \"Python Enterprises\"\n",
    "    \n",
    "    def __init__(self,name,age,dept):\n",
    "        self.name = name\n",
    "        self.age = age\n",
    "        self.dept = dept\n",
    "    \n",
    "    def __str__(self):\n",
    "        return \"My name is {}, my age is {} and I work in {} departmentof {}.\".format(self.name,\n",
    "                self.age,self.dept, self.company)\n",
    "    \n",
    "Nilabh = Employee(\"Nilabh\",26,\"Producction\")\n",
    "Sadirh = Employee(\" Sadirh\",26,\"Markting\")\n",
    "\n",
    "print(Nilabh)"
   ]
  },
  {
   "cell_type": "code",
   "execution_count": 31,
   "metadata": {},
   "outputs": [
    {
     "name": "stdout",
     "output_type": "stream",
     "text": [
      "Name :Nilabh, Age35 years old, Python Enterprises  department,Data birth is 1965\n"
     ]
    }
   ],
   "source": [
    "# Обьект метод\n",
    "class Employee:\n",
    "    \n",
    "    #атрибут класс (Оюбщий для всех экземпляров класса)\n",
    "    company = \"Python Enterprises\"\n",
    "    \n",
    "    #атрибут экземпляра\n",
    "    def __init__(self,name,age,dept):\n",
    "        self.name = name\n",
    "        self.age = age\n",
    "        self.department = dept\n",
    "    \n",
    "    # Содание обьекиа метода\n",
    "    def Years(self, years_of_birth):\n",
    "        return years_of_birth-self.age\n",
    "    \n",
    " # Создать экземпляр классса rmployee\n",
    "Eduardo = Employee(\"Nilabh\",35,\"Manager\")\n",
    "\n",
    "print(\"Name :{}, Age{} years old, {}  department,Data birth is {}\".format(Nilabh.name,\n",
    "                    Nilabh.age, Employee.company, Nilabh.Years(2000)))"
   ]
  },
  {
   "cell_type": "code",
   "execution_count": 81,
   "metadata": {},
   "outputs": [],
   "source": [
    "# Наследование\n",
    "class Person:\n",
    "    \n",
    "    def __init__(self,name,age):\n",
    "        self.name = name\n",
    "        self.age = age\n",
    "        \n",
    "class Employee(Person):\n",
    "    \n",
    "    def __init__(self,dept,name,age):\n",
    "        super().__init__(name,age)\n",
    "        #super().__init__(age)\n",
    "        self.dept = dept\n",
    "        \n",
    "    def __str__(self):\n",
    "        return \"Your name is :{}, and you are :{} years old, your dept is :{}.\".format(self.name,\n",
    "                    self.age,self.dept)\n",
    "    \n",
    "Eduardo = Employee(\"Eduardo\",28,\"Programmer\")\n"
   ]
  },
  {
   "cell_type": "code",
   "execution_count": 82,
   "metadata": {},
   "outputs": [
    {
     "name": "stdout",
     "output_type": "stream",
     "text": [
      "Your name is :28, and you are :Programmer years old, your dept is :Eduardo.\n"
     ]
    }
   ],
   "source": [
    "print(Eduardo)"
   ]
  },
  {
   "cell_type": "code",
   "execution_count": 83,
   "metadata": {},
   "outputs": [
    {
     "name": "stdout",
     "output_type": "stream",
     "text": [
      "Base1\n",
      "Base2\n",
      "Deliver\n",
      "Person1 Person2\n"
     ]
    }
   ],
   "source": [
    "# Множественное наследование\n",
    "\n",
    "class Base1:\n",
    "    def __init__(self):\n",
    "        self.str1 = \"Person1\"\n",
    "        print(\"Base1\")\n",
    "\n",
    "class Base2:\n",
    "    def __init__(self):\n",
    "        self.str2 = \"Person2\"\n",
    "        print(\"Base2\")\n",
    "    \n",
    "class Derived(Base1,Base2):\n",
    "    def __init__(self):\n",
    "        Base1 .__init__(self) #Вызов контрутор Base1\n",
    "        Base2.__init__(self) # и контруктор Base2\n",
    "        print(\"Deliver\")\n",
    "    def printStrs(self):\n",
    "        print(self.str1,self.str2)\n",
    "\n",
    "#Сoздание экземплар класса delived\n",
    "person = Derived()\n",
    "\n",
    "#Метод printStrs производного класса person выводить \n",
    "# стрки из   базовых классов \" Person1\" и \" Person2\"\n",
    "person.printStrs()\n",
    "\n"
   ]
  },
  {
   "cell_type": "code",
   "execution_count": 86,
   "metadata": {},
   "outputs": [
    {
     "name": "stdout",
     "output_type": "stream",
     "text": [
      "Nilabh Nishchhal was born in year 1998.\n"
     ]
    }
   ],
   "source": [
    "#Базовой класс\n",
    "class Person:\n",
    "    def __init__(self, name,surname,year_of_birth):\n",
    "        self.name = name\n",
    "        self.surname = surname\n",
    "        self.year_of_birth = year_of_birth\n",
    "        \n",
    "    def age(self,current_year):\n",
    "        return current_year - self.year_of_birth\n",
    "    def __str__(self):\n",
    "        return \"{} {} was born in year {}.\".format(self.name,\n",
    "        self.surname, self.year_of_birth)\n",
    "Nilabh =  Person(\"Nilabh\",\"Nishchhal\",1998)\n",
    "print(Nilabh)"
   ]
  },
  {
   "cell_type": "code",
   "execution_count": 87,
   "metadata": {},
   "outputs": [
    {
     "name": "stdout",
     "output_type": "stream",
     "text": [
      "Siddahart Tiwari was born in year 1985.\n"
     ]
    }
   ],
   "source": [
    "#Наследование\n",
    "class Student(Person):\n",
    "    def __init__(self, student_id, name, surname,\n",
    "        year_of_birth):\n",
    "        super().__init__(name, surname,year_of_birth)\n",
    "        self.student_id = student_id\n",
    "    \n",
    "Siddahart = Student(1,'Siddahart','Tiwari',1985)\n",
    "print(Siddahart)"
   ]
  },
  {
   "cell_type": "code",
   "execution_count": 92,
   "metadata": {},
   "outputs": [
    {
     "name": "stdout",
     "output_type": "stream",
     "text": [
      "Siddaharth Tiwari (student id 1)was born in year 1985.\n"
     ]
    }
   ],
   "source": [
    "class Student(Person):\n",
    "    def __init__(self,student_id,name,surname,\n",
    "                year_of_birth):\n",
    "        super().__init__(name,surname,year_of_birth)\n",
    "        self.student_id = student_id\n",
    "    def __str__(self):\n",
    "        return \"{} {} (student id {})was born in year {}.\".format(self.name,\n",
    "        self.surname,self.student_id,self.year_of_birth)\n",
    "        \n",
    "Siddahart = Student (1, 'Siddaharth','Tiwari',1985)\n",
    "\n",
    "print(Siddahart)"
   ]
  },
  {
   "cell_type": "code",
   "execution_count": 93,
   "metadata": {},
   "outputs": [
    {
     "name": "stdout",
     "output_type": "stream",
     "text": [
      "Help on Student in module __main__ object:\n",
      "\n",
      "class Student(Person)\n",
      " |  Student(student_id, name, surname, year_of_birth)\n",
      " |  \n",
      " |  Method resolution order:\n",
      " |      Student\n",
      " |      Person\n",
      " |      builtins.object\n",
      " |  \n",
      " |  Methods defined here:\n",
      " |  \n",
      " |  __init__(self, student_id, name, surname, year_of_birth)\n",
      " |      Initialize self.  See help(type(self)) for accurate signature.\n",
      " |  \n",
      " |  __str__(self)\n",
      " |      Return str(self).\n",
      " |  \n",
      " |  ----------------------------------------------------------------------\n",
      " |  Methods inherited from Person:\n",
      " |  \n",
      " |  age(self, current_year)\n",
      " |  \n",
      " |  ----------------------------------------------------------------------\n",
      " |  Data descriptors inherited from Person:\n",
      " |  \n",
      " |  __dict__\n",
      " |      dictionary for instance variables (if defined)\n",
      " |  \n",
      " |  __weakref__\n",
      " |      list of weak references to the object (if defined)\n",
      "\n"
     ]
    }
   ],
   "source": [
    "help(Siddahart)"
   ]
  }
 ],
 "metadata": {
  "kernelspec": {
   "display_name": "Python 3",
   "language": "python",
   "name": "python3"
  },
  "language_info": {
   "codemirror_mode": {
    "name": "ipython",
    "version": 3
   },
   "file_extension": ".py",
   "mimetype": "text/x-python",
   "name": "python",
   "nbconvert_exporter": "python",
   "pygments_lexer": "ipython3",
   "version": "3.8.5"
  }
 },
 "nbformat": 4,
 "nbformat_minor": 4
}
